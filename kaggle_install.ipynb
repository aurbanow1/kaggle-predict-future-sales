{
  "nbformat": 4,
  "nbformat_minor": 0,
  "metadata": {
    "colab": {
      "name": "kaggle-install.ipynb",
      "version": "0.3.2",
      "provenance": [],
      "collapsed_sections": [],
      "include_colab_link": true
    },
    "kernelspec": {
      "name": "python3",
      "display_name": "Python 3"
    }
  },
  "cells": [
    {
      "cell_type": "markdown",
      "metadata": {
        "id": "view-in-github",
        "colab_type": "text"
      },
      "source": [
        "<a href=\"https://colab.research.google.com/github/aurbanow1/kaggle-predict-future-sales/blob/master/kaggle_install.ipynb\" target=\"_parent\"><img src=\"https://colab.research.google.com/assets/colab-badge.svg\" alt=\"Open In Colab\"/></a>"
      ]
    },
    {
      "metadata": {
        "id": "2O0DANXiN-2U",
        "colab_type": "code",
        "outputId": "1c5047f8-44bb-4590-c2ee-73f646fae5e3",
        "colab": {
          "base_uri": "https://localhost:8080/",
          "height": 224
        }
      },
      "cell_type": "code",
      "source": [
        "!pip install kaggle"
      ],
      "execution_count": 1,
      "outputs": [
        {
          "output_type": "stream",
          "text": [
            "Requirement already satisfied: kaggle in /usr/local/lib/python3.6/dist-packages (1.5.0)\n",
            "Requirement already satisfied: python-dateutil in /usr/local/lib/python3.6/dist-packages (from kaggle) (2.5.3)\n",
            "Requirement already satisfied: certifi in /usr/local/lib/python3.6/dist-packages (from kaggle) (2018.10.15)\n",
            "Requirement already satisfied: tqdm in /usr/local/lib/python3.6/dist-packages (from kaggle) (4.28.1)\n",
            "Requirement already satisfied: requests in /usr/local/lib/python3.6/dist-packages (from kaggle) (2.18.4)\n",
            "Requirement already satisfied: urllib3<1.23.0,>=1.15 in /usr/local/lib/python3.6/dist-packages (from kaggle) (1.22)\n",
            "Requirement already satisfied: six>=1.10 in /usr/local/lib/python3.6/dist-packages (from kaggle) (1.11.0)\n",
            "Requirement already satisfied: python-slugify in /usr/local/lib/python3.6/dist-packages (from kaggle) (1.2.6)\n",
            "Requirement already satisfied: idna<2.7,>=2.5 in /usr/local/lib/python3.6/dist-packages (from requests->kaggle) (2.6)\n",
            "Requirement already satisfied: chardet<3.1.0,>=3.0.2 in /usr/local/lib/python3.6/dist-packages (from requests->kaggle) (3.0.4)\n",
            "Requirement already satisfied: Unidecode>=0.04.16 in /usr/local/lib/python3.6/dist-packages (from python-slugify->kaggle) (1.0.23)\n"
          ],
          "name": "stdout"
        }
      ]
    },
    {
      "metadata": {
        "id": "4d7TUpiVO1dk",
        "colab_type": "code",
        "outputId": "67f43bab-786c-49ec-a781-ff4483a17a38",
        "colab": {
          "base_uri": "https://localhost:8080/",
          "height": 34
        }
      },
      "cell_type": "code",
      "source": [
        "from googleapiclient.discovery import build\n",
        "import io, os\n",
        "from googleapiclient.http import MediaIoBaseDownload\n",
        "from google.colab import auth\n",
        "auth.authenticate_user()\n",
        "drive_service = build('drive', 'v3')\n",
        "results = drive_service.files().list(\n",
        "        q=\"name = 'kaggle.json'\", fields=\"files(id)\").execute()\n",
        "kaggle_api_key = results.get('files', [])\n",
        "filename = \"/root/.kaggle/kaggle.json\"  # NOTE: This is different from the Medium post!\n",
        "os.makedirs(os.path.dirname(filename), exist_ok=True)\n",
        "request = drive_service.files().get_media(fileId=kaggle_api_key[0]['id'])\n",
        "fh = io.FileIO(filename, 'wb')\n",
        "downloader = MediaIoBaseDownload(fh, request)\n",
        "done = False\n",
        "while done is False:\n",
        "    status, done = downloader.next_chunk()\n",
        "    print(\"Download %d%%.\" % int(status.progress() * 100))\n",
        "os.chmod(filename, 600)"
      ],
      "execution_count": 7,
      "outputs": [
        {
          "output_type": "stream",
          "text": [
            "Download 100%.\n"
          ],
          "name": "stdout"
        }
      ]
    },
    {
      "metadata": {
        "id": "8uHciVEiTCje",
        "colab_type": "code",
        "colab": {}
      },
      "cell_type": "code",
      "source": [
        ""
      ],
      "execution_count": 0,
      "outputs": []
    },
    {
      "metadata": {
        "id": "UH8MZp6jPOze",
        "colab_type": "code",
        "outputId": "1c92ca1a-bf81-4567-f1ac-b0a4dcd7b822",
        "colab": {
          "base_uri": "https://localhost:8080/",
          "height": 411
        }
      },
      "cell_type": "code",
      "source": [
        "!kaggle competitions list"
      ],
      "execution_count": 8,
      "outputs": [
        {
          "output_type": "stream",
          "text": [
            "ref                                            deadline             category            reward  teamCount  userHasEntered  \n",
            "---------------------------------------------  -------------------  ---------------  ---------  ---------  --------------  \n",
            "digit-recognizer                               2030-01-01 00:00:00  Getting Started  Knowledge       2720           False  \n",
            "titanic                                        2030-01-01 00:00:00  Getting Started  Knowledge      10352            True  \n",
            "house-prices-advanced-regression-techniques    2030-01-01 00:00:00  Getting Started  Knowledge       4407           False  \n",
            "imagenet-object-localization-challenge         2029-12-31 07:00:00  Research         Knowledge         30           False  \n",
            "competitive-data-science-predict-future-sales  2019-12-31 23:59:00  Playground           Kudos       1839           False  \n",
            "histopathologic-cancer-detection               2019-03-31 23:59:00  Playground       Knowledge        105           False  \n",
            "elo-merchant-category-recommendation           2019-02-26 23:59:00  Featured           $50,000        165           False  \n",
            "quora-insincere-questions-classification       2019-02-05 23:59:00  Featured           $25,000       1472           False  \n",
            "pubg-finish-placement-prediction               2019-01-30 23:59:00  Playground            Swag        758           False  \n",
            "human-protein-atlas-image-classification       2019-01-10 23:59:00  Featured           $37,000       1255           False  \n",
            "traveling-santa-2018-prime-paths               2019-01-10 23:59:00  Featured           $25,000        735           False  \n",
            "two-sigma-financial-news                       2019-01-08 23:59:00  Featured          $100,000       1917           False  \n",
            "PLAsTiCC-2018                                  2018-12-17 23:59:00  Featured           $25,000        795           False  \n",
            "quickdraw-doodle-recognition                   2018-12-04 23:59:00  Featured           $25,000       1217           False  \n",
            "ga-customer-revenue-prediction                 2018-11-30 23:59:00  Featured           $45,000        921            True  \n",
            "dont-call-me-turkey                            2018-11-26 23:59:00  Playground            Swag        267           False  \n",
            "airbus-ship-detection                          2018-11-14 23:59:00  Featured           $60,000        884           False  \n",
            "inclusive-images-challenge                     2018-11-12 23:59:00  Research           $25,000        468           False  \n",
            "rsna-pneumonia-detection-challenge             2018-10-31 23:59:00  Featured           $30,000       1499           False  \n",
            "tgs-salt-identification-challenge              2018-10-19 23:59:00  Featured          $100,000       3234           False  \n"
          ],
          "name": "stdout"
        }
      ]
    },
    {
      "metadata": {
        "id": "AjdnRbqsWYxz",
        "colab_type": "code",
        "colab": {
          "base_uri": "https://localhost:8080/",
          "height": 68
        },
        "outputId": "1dc05064-6885-41f8-ea77-45d25ce9adc1"
      },
      "cell_type": "code",
      "source": [
        "!kaggle competitions download competitive-data-science-predict-future-sales\n",
        "!mkdir data\n",
        "!mv *.csv data/\n",
        "\n"
      ],
      "execution_count": 21,
      "outputs": [
        {
          "output_type": "stream",
          "text": [
            "403 - Forbidden\n",
            "mkdir: cannot create directory ‘data’: File exists\n",
            "mv: cannot stat '*.csv': No such file or directory\n"
          ],
          "name": "stdout"
        }
      ]
    }
  ]
}